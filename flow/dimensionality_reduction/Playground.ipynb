{
 "cells": [
  {
   "cell_type": "code",
   "execution_count": 9,
   "metadata": {
    "ExecuteTime": {
     "end_time": "2019-01-21T10:22:49.034115Z",
     "start_time": "2019-01-21T10:22:49.029784Z"
    }
   },
   "outputs": [],
   "source": [
    "import pandas as pd"
   ]
  },
  {
   "cell_type": "code",
   "execution_count": 10,
   "metadata": {
    "ExecuteTime": {
     "end_time": "2019-01-21T10:22:51.993183Z",
     "start_time": "2019-01-21T10:22:49.350797Z"
    }
   },
   "outputs": [],
   "source": [
    "data = pd.read_csv(\"FULL_PANEL.csv\")"
   ]
  },
  {
   "cell_type": "code",
   "execution_count": 11,
   "metadata": {
    "ExecuteTime": {
     "end_time": "2019-01-21T10:22:52.040861Z",
     "start_time": "2019-01-21T10:22:51.996571Z"
    }
   },
   "outputs": [
    {
     "data": {
      "text/html": [
       "<div>\n",
       "<style scoped>\n",
       "    .dataframe tbody tr th:only-of-type {\n",
       "        vertical-align: middle;\n",
       "    }\n",
       "\n",
       "    .dataframe tbody tr th {\n",
       "        vertical-align: top;\n",
       "    }\n",
       "\n",
       "    .dataframe thead th {\n",
       "        text-align: right;\n",
       "    }\n",
       "</style>\n",
       "<table border=\"1\" class=\"dataframe\">\n",
       "  <thead>\n",
       "    <tr style=\"text-align: right;\">\n",
       "      <th></th>\n",
       "      <th>FSC-A</th>\n",
       "      <th>FSC-H</th>\n",
       "      <th>SSC-A</th>\n",
       "      <th>SSC-H</th>\n",
       "      <th>LIVE</th>\n",
       "      <th>CD16</th>\n",
       "      <th>CD4</th>\n",
       "      <th>CD14</th>\n",
       "      <th>CD8</th>\n",
       "      <th>BV421-A</th>\n",
       "      <th>CD19</th>\n",
       "      <th>CCR8</th>\n",
       "      <th>CCR4</th>\n",
       "      <th>CD3</th>\n",
       "      <th>Time</th>\n",
       "    </tr>\n",
       "  </thead>\n",
       "  <tbody>\n",
       "    <tr>\n",
       "      <th>0</th>\n",
       "      <td>79307.80</td>\n",
       "      <td>68270.0</td>\n",
       "      <td>25459.89</td>\n",
       "      <td>23694.0</td>\n",
       "      <td>1.635653</td>\n",
       "      <td>0.766898</td>\n",
       "      <td>0.987226</td>\n",
       "      <td>0.579158</td>\n",
       "      <td>2.145913</td>\n",
       "      <td>0.778160</td>\n",
       "      <td>0.527838</td>\n",
       "      <td>0.816260</td>\n",
       "      <td>1.001292</td>\n",
       "      <td>2.474441</td>\n",
       "      <td>61.9</td>\n",
       "    </tr>\n",
       "    <tr>\n",
       "      <th>1</th>\n",
       "      <td>74549.80</td>\n",
       "      <td>51862.0</td>\n",
       "      <td>29905.20</td>\n",
       "      <td>27670.0</td>\n",
       "      <td>1.562839</td>\n",
       "      <td>1.141495</td>\n",
       "      <td>1.078976</td>\n",
       "      <td>0.601586</td>\n",
       "      <td>0.449545</td>\n",
       "      <td>0.644457</td>\n",
       "      <td>0.766582</td>\n",
       "      <td>0.925248</td>\n",
       "      <td>0.768450</td>\n",
       "      <td>2.317433</td>\n",
       "      <td>61.9</td>\n",
       "    </tr>\n",
       "    <tr>\n",
       "      <th>2</th>\n",
       "      <td>66142.05</td>\n",
       "      <td>53862.0</td>\n",
       "      <td>29283.95</td>\n",
       "      <td>27842.0</td>\n",
       "      <td>1.279310</td>\n",
       "      <td>0.768240</td>\n",
       "      <td>3.150100</td>\n",
       "      <td>1.022677</td>\n",
       "      <td>0.625323</td>\n",
       "      <td>0.508381</td>\n",
       "      <td>0.704093</td>\n",
       "      <td>0.907140</td>\n",
       "      <td>0.721911</td>\n",
       "      <td>2.640160</td>\n",
       "      <td>62.0</td>\n",
       "    </tr>\n",
       "    <tr>\n",
       "      <th>3</th>\n",
       "      <td>97213.34</td>\n",
       "      <td>79244.0</td>\n",
       "      <td>17334.65</td>\n",
       "      <td>16508.0</td>\n",
       "      <td>1.549131</td>\n",
       "      <td>0.711396</td>\n",
       "      <td>1.033960</td>\n",
       "      <td>1.181882</td>\n",
       "      <td>2.748644</td>\n",
       "      <td>0.953367</td>\n",
       "      <td>1.105561</td>\n",
       "      <td>0.424206</td>\n",
       "      <td>0.873210</td>\n",
       "      <td>1.122189</td>\n",
       "      <td>62.1</td>\n",
       "    </tr>\n",
       "    <tr>\n",
       "      <th>4</th>\n",
       "      <td>78465.40</td>\n",
       "      <td>56447.0</td>\n",
       "      <td>25613.96</td>\n",
       "      <td>23375.0</td>\n",
       "      <td>1.065789</td>\n",
       "      <td>0.912137</td>\n",
       "      <td>1.036171</td>\n",
       "      <td>0.993393</td>\n",
       "      <td>0.858486</td>\n",
       "      <td>1.073285</td>\n",
       "      <td>0.814111</td>\n",
       "      <td>1.361865</td>\n",
       "      <td>0.609236</td>\n",
       "      <td>1.172189</td>\n",
       "      <td>62.2</td>\n",
       "    </tr>\n",
       "  </tbody>\n",
       "</table>\n",
       "</div>"
      ],
      "text/plain": [
       "      FSC-A    FSC-H     SSC-A    SSC-H      LIVE      CD16       CD4  \\\n",
       "0  79307.80  68270.0  25459.89  23694.0  1.635653  0.766898  0.987226   \n",
       "1  74549.80  51862.0  29905.20  27670.0  1.562839  1.141495  1.078976   \n",
       "2  66142.05  53862.0  29283.95  27842.0  1.279310  0.768240  3.150100   \n",
       "3  97213.34  79244.0  17334.65  16508.0  1.549131  0.711396  1.033960   \n",
       "4  78465.40  56447.0  25613.96  23375.0  1.065789  0.912137  1.036171   \n",
       "\n",
       "       CD14       CD8   BV421-A      CD19      CCR8      CCR4       CD3  Time  \n",
       "0  0.579158  2.145913  0.778160  0.527838  0.816260  1.001292  2.474441  61.9  \n",
       "1  0.601586  0.449545  0.644457  0.766582  0.925248  0.768450  2.317433  61.9  \n",
       "2  1.022677  0.625323  0.508381  0.704093  0.907140  0.721911  2.640160  62.0  \n",
       "3  1.181882  2.748644  0.953367  1.105561  0.424206  0.873210  1.122189  62.1  \n",
       "4  0.993393  0.858486  1.073285  0.814111  1.361865  0.609236  1.172189  62.2  "
      ]
     },
     "execution_count": 11,
     "metadata": {},
     "output_type": "execute_result"
    }
   ],
   "source": [
    "data.head()"
   ]
  },
  {
   "cell_type": "code",
   "execution_count": 6,
   "metadata": {
    "ExecuteTime": {
     "end_time": "2019-01-20T18:24:42.261504Z",
     "start_time": "2019-01-20T18:24:42.255120Z"
    }
   },
   "outputs": [
    {
     "data": {
      "text/plain": [
       "1"
      ]
     },
     "execution_count": 6,
     "metadata": {},
     "output_type": "execute_result"
    }
   ],
   "source": [
    "len(data.columns)"
   ]
  },
  {
   "cell_type": "code",
   "execution_count": null,
   "metadata": {},
   "outputs": [],
   "source": []
  }
 ],
 "metadata": {
  "kernelspec": {
   "display_name": "Python 3",
   "language": "python",
   "name": "python3"
  },
  "language_info": {
   "codemirror_mode": {
    "name": "ipython",
    "version": 3
   },
   "file_extension": ".py",
   "mimetype": "text/x-python",
   "name": "python",
   "nbconvert_exporter": "python",
   "pygments_lexer": "ipython3",
   "version": "3.6.7"
  },
  "toc": {
   "base_numbering": 1,
   "nav_menu": {},
   "number_sections": true,
   "sideBar": true,
   "skip_h1_title": false,
   "title_cell": "Table of Contents",
   "title_sidebar": "Contents",
   "toc_cell": false,
   "toc_position": {},
   "toc_section_display": true,
   "toc_window_display": false
  }
 },
 "nbformat": 4,
 "nbformat_minor": 2
}
